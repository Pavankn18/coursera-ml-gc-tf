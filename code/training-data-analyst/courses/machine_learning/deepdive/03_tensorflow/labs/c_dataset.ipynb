{
 "cells": [
  {
   "cell_type": "markdown",
   "metadata": {},
   "source": [
    "<h1> 2c. Loading large datasets progressively with the tf.data.Dataset </h1>\n",
    "\n",
    "In this notebook, we continue reading the same small dataset, but refactor our ML pipeline in two small, but significant, ways:\n",
    "<ol>\n",
    "<li> Refactor the input to read data from disk progressively.\n",
    "<li> Refactor the feature creation so that it is not one-to-one with inputs.\n",
    "</ol>\n",
    "<br/>\n",
    "The Pandas function in the previous notebook first read the whole data into memory -- on a large dataset, this won't be an option."
   ]
  },
  {
   "cell_type": "code",
   "execution_count": 1,
   "metadata": {},
   "outputs": [
    {
     "name": "stderr",
     "output_type": "stream",
     "text": [
      "/usr/local/envs/py3env/lib/python3.5/site-packages/h5py/__init__.py:36: FutureWarning: Conversion of the second argument of issubdtype from `float` to `np.floating` is deprecated. In future, it will be treated as `np.float64 == np.dtype(float).type`.\n",
      "  from ._conv import register_converters as _register_converters\n"
     ]
    },
    {
     "name": "stdout",
     "output_type": "stream",
     "text": [
      "1.8.0\n"
     ]
    }
   ],
   "source": [
    "import datalab.bigquery as bq\n",
    "import tensorflow as tf\n",
    "import numpy as np\n",
    "import shutil\n",
    "print(tf.__version__)"
   ]
  },
  {
   "cell_type": "markdown",
   "metadata": {},
   "source": [
    "<h2> 1. Refactor the input </h2>\n",
    "\n",
    "Read data created in Lab1a, but this time make it more general, so that we can later handle large datasets. We use the Dataset API for this. It ensures that, as data gets delivered to the model in mini-batches, it is loaded from disk only when needed."
   ]
  },
  {
   "cell_type": "code",
   "execution_count": 17,
   "metadata": {},
   "outputs": [],
   "source": [
    "CSV_COLUMNS = ['fare_amount', 'pickuplon','pickuplat','dropofflon','dropofflat','passengers', 'key']\n",
    "DEFAULTS = [[0.0], [-74.0], [40.0], [-74.0], [40.7], [1.0], ['nokey']]\n",
    "\n",
    "def read_line(fileLine):\n",
    "  cols = tf.decode_csv(fileLine, record_defaults=DEFAULTS)\n",
    "  features = dict(zip(CSV_COLUMNS, cols))\n",
    "  features.pop(\"key\");\n",
    "  label = features.pop(\"fare_amount\")\n",
    "  return features, label\n",
    "\n",
    "# TODO: Create an appropriate input function read_dataset\n",
    "def read_dataset(filename, mode):\n",
    "    #TODO Add CSV decoder function and dataset creation and methods\n",
    "    dataset = tf.data.TextLineDataset(filename) \\\n",
    "      .map(read_line)\n",
    "    \n",
    "    batch = 250;\n",
    "    \n",
    "    if(mode == tf.estimator.ModeKeys.TRAIN):\n",
    "      num_epoch = None\n",
    "      dataset.shuffle(buffer_size = 1000)\n",
    "    else:\n",
    "      num_epoch = 1\n",
    "    return dataset.repeat(num_epoch).batch(batch)\n",
    "  \n",
    "def get_train_input_fn():\n",
    "  return read_dataset('./taxi-train.csv', mode = tf.estimator.ModeKeys.TRAIN)\n",
    "\n",
    "def get_valid_input_fn():\n",
    "  return read_dataset('./taxi-valid.csv', mode = tf.estimator.ModeKeys.EVAL)"
   ]
  },
  {
   "cell_type": "markdown",
   "metadata": {},
   "source": [
    "<h2> 2. Refactor the way features are created. </h2>\n",
    "\n",
    "For now, pass these through (same as previous lab).  However, refactoring this way will enable us to break the one-to-one relationship between inputs and features."
   ]
  },
  {
   "cell_type": "code",
   "execution_count": 3,
   "metadata": {},
   "outputs": [],
   "source": [
    "INPUT_COLUMNS = [\n",
    "    tf.feature_column.numeric_column('pickuplon'),\n",
    "    tf.feature_column.numeric_column('pickuplat'),\n",
    "    tf.feature_column.numeric_column('dropofflat'),\n",
    "    tf.feature_column.numeric_column('dropofflon'),\n",
    "    tf.feature_column.numeric_column('passengers'),\n",
    "]\n",
    "\n",
    "def add_more_features(feats):\n",
    "  # Nothing to add (yet!)\n",
    "  return feats\n",
    "\n",
    "feature_cols = add_more_features(INPUT_COLUMNS)"
   ]
  },
  {
   "cell_type": "markdown",
   "metadata": {},
   "source": [
    "<h2> Create and train the model </h2>\n",
    "\n",
    "Note that we train for num_steps * batch_size examples."
   ]
  },
  {
   "cell_type": "code",
   "execution_count": 18,
   "metadata": {},
   "outputs": [
    {
     "name": "stdout",
     "output_type": "stream",
     "text": [
      "INFO:tensorflow:Using default config.\n",
      "INFO:tensorflow:Using config: {'_num_worker_replicas': 1, '_keep_checkpoint_every_n_hours': 10000, '_keep_checkpoint_max': 5, '_task_type': 'worker', '_save_summary_steps': 100, '_model_dir': 'taxi_trained', '_task_id': 0, '_save_checkpoints_steps': None, '_global_id_in_cluster': 0, '_is_chief': True, '_train_distribute': None, '_num_ps_replicas': 0, '_session_config': None, '_evaluation_master': '', '_service': None, '_master': '', '_cluster_spec': <tensorflow.python.training.server_lib.ClusterSpec object at 0x7fd5d8142a90>, '_tf_random_seed': None, '_save_checkpoints_secs': 600, '_log_step_count_steps': 100}\n",
      "INFO:tensorflow:Calling model_fn.\n",
      "INFO:tensorflow:Done calling model_fn.\n",
      "INFO:tensorflow:Create CheckpointSaverHook.\n",
      "INFO:tensorflow:Graph was finalized.\n",
      "INFO:tensorflow:Running local_init_op.\n",
      "INFO:tensorflow:Done running local_init_op.\n",
      "INFO:tensorflow:Saving checkpoints for 1 into taxi_trained/model.ckpt.\n",
      "INFO:tensorflow:step = 1, loss = 54896.812\n",
      "INFO:tensorflow:global_step/sec: 85.2857\n",
      "INFO:tensorflow:step = 101, loss = 25187.127 (1.178 sec)\n",
      "INFO:tensorflow:global_step/sec: 90.5413\n",
      "INFO:tensorflow:step = 201, loss = 17412.402 (1.104 sec)\n",
      "INFO:tensorflow:global_step/sec: 87.0593\n",
      "INFO:tensorflow:step = 301, loss = 22667.617 (1.149 sec)\n",
      "INFO:tensorflow:global_step/sec: 88.5629\n",
      "INFO:tensorflow:step = 401, loss = 16351.827 (1.129 sec)\n",
      "INFO:tensorflow:global_step/sec: 89.0832\n",
      "INFO:tensorflow:step = 501, loss = 14705.673 (1.122 sec)\n",
      "INFO:tensorflow:global_step/sec: 90.8655\n",
      "INFO:tensorflow:step = 601, loss = 23771.123 (1.101 sec)\n",
      "INFO:tensorflow:global_step/sec: 90.9002\n",
      "INFO:tensorflow:step = 701, loss = 19691.297 (1.100 sec)\n",
      "INFO:tensorflow:global_step/sec: 90.6026\n",
      "INFO:tensorflow:step = 801, loss = 20453.67 (1.103 sec)\n",
      "INFO:tensorflow:global_step/sec: 91.2685\n",
      "INFO:tensorflow:step = 901, loss = 24879.406 (1.096 sec)\n",
      "INFO:tensorflow:global_step/sec: 91.069\n",
      "INFO:tensorflow:step = 1001, loss = 28042.777 (1.099 sec)\n",
      "INFO:tensorflow:global_step/sec: 89.6775\n",
      "INFO:tensorflow:step = 1101, loss = 19108.586 (1.115 sec)\n",
      "INFO:tensorflow:global_step/sec: 86.8917\n",
      "INFO:tensorflow:step = 1201, loss = 20217.533 (1.151 sec)\n",
      "INFO:tensorflow:global_step/sec: 89.5856\n",
      "INFO:tensorflow:step = 1301, loss = 18137.1 (1.115 sec)\n",
      "INFO:tensorflow:global_step/sec: 91.164\n",
      "INFO:tensorflow:step = 1401, loss = 17987.262 (1.097 sec)\n",
      "INFO:tensorflow:global_step/sec: 90.1829\n",
      "INFO:tensorflow:step = 1501, loss = 20376.045 (1.109 sec)\n",
      "INFO:tensorflow:global_step/sec: 89.0827\n",
      "INFO:tensorflow:step = 1601, loss = 21910.88 (1.123 sec)\n",
      "INFO:tensorflow:global_step/sec: 89.7371\n",
      "INFO:tensorflow:step = 1701, loss = 11870.171 (1.114 sec)\n",
      "INFO:tensorflow:global_step/sec: 89.0956\n",
      "INFO:tensorflow:step = 1801, loss = 21833.084 (1.123 sec)\n",
      "INFO:tensorflow:global_step/sec: 90.1244\n",
      "INFO:tensorflow:step = 1901, loss = 18203.127 (1.109 sec)\n",
      "INFO:tensorflow:Saving checkpoints for 2000 into taxi_trained/model.ckpt.\n",
      "INFO:tensorflow:Loss for final step: 26926.514.\n"
     ]
    },
    {
     "data": {
      "text/plain": [
       "<tensorflow.python.estimator.canned.linear.LinearRegressor at 0x7fd5d8142f98>"
      ]
     },
     "execution_count": 18,
     "metadata": {},
     "output_type": "execute_result"
    }
   ],
   "source": [
    "tf.logging.set_verbosity(tf.logging.INFO)\n",
    "OUTDIR = 'taxi_trained'\n",
    "shutil.rmtree(OUTDIR, ignore_errors = True) # start fresh each time\n",
    "model = tf.estimator.LinearRegressor(\n",
    "      feature_columns = feature_cols, model_dir = OUTDIR)\n",
    "model.train(input_fn = get_train_input_fn, steps = 2000)"
   ]
  },
  {
   "cell_type": "markdown",
   "metadata": {},
   "source": [
    "<h3> Evaluate model </h3>\n",
    "\n",
    "As before, evaluate on the validation data.  We'll do the third refactoring (to move the evaluation into the training loop) in the next lab."
   ]
  },
  {
   "cell_type": "code",
   "execution_count": 19,
   "metadata": {},
   "outputs": [
    {
     "name": "stdout",
     "output_type": "stream",
     "text": [
      "INFO:tensorflow:Calling model_fn.\n",
      "INFO:tensorflow:Done calling model_fn.\n",
      "INFO:tensorflow:Starting evaluation at 2019-04-25-17:36:44\n",
      "INFO:tensorflow:Graph was finalized.\n",
      "INFO:tensorflow:Restoring parameters from taxi_trained/model.ckpt-2000\n",
      "INFO:tensorflow:Running local_init_op.\n",
      "INFO:tensorflow:Done running local_init_op.\n",
      "INFO:tensorflow:Finished evaluation at 2019-04-25-17:36:44\n",
      "INFO:tensorflow:Saving dict for global step 2000: average_loss = 108.8457, global_step = 2000, loss = 25889.729\n",
      "RMSE on dataset = 10.432914733886719\n"
     ]
    }
   ],
   "source": [
    "metrics = model.evaluate(input_fn = get_valid_input_fn, steps = None)\n",
    "print('RMSE on dataset = {}'.format(np.sqrt(metrics['average_loss'])))"
   ]
  },
  {
   "cell_type": "markdown",
   "metadata": {},
   "source": [
    "## Challenge Exercise\n",
    "\n",
    "Create a neural network that is capable of finding the volume of a cylinder given the radius of its base (r) and its height (h). Assume that the radius and height of the cylinder are both in the range 0.5 to 2.0. Unlike in the challenge exercise for b_estimator.ipynb, assume that your measurements of r, h and V are all rounded off to the nearest 0.1. Simulate the necessary training dataset. This time, you will need a lot more data to get a good predictor.\n",
    "\n",
    "Hint (highlight to see):\n",
    "<p style='color:white'>\n",
    "Create random values for r and h and compute V. Then, round off r, h and V (i.e., the volume is computed from the true value of r and h; it's only your measurement that is rounded off). Your dataset will consist of the round values of r, h and V. Do this for both the training and evaluation datasets.\n",
    "</p>\n",
    "\n",
    "Now modify the \"noise\" so that instead of just rounding off the value, there is up to a 10% error (uniformly distributed) in the measurement followed by rounding off."
   ]
  },
  {
   "cell_type": "code",
   "execution_count": 3,
   "metadata": {
    "codeCollapsed": false,
    "hiddenCell": true
   },
   "outputs": [
    {
     "name": "stdout",
     "output_type": "stream",
     "text": [
      "INFO:tensorflow:Using default config.\n",
      "INFO:tensorflow:Using config: {'_is_chief': True, '_evaluation_master': '', '_save_checkpoints_secs': 600, '_cluster_spec': <tensorflow.python.training.server_lib.ClusterSpec object at 0x7f9041ab84e0>, '_tf_random_seed': None, '_save_checkpoints_steps': None, '_keep_checkpoint_every_n_hours': 10000, '_global_id_in_cluster': 0, '_master': '', '_service': None, '_task_type': 'worker', '_log_step_count_steps': 100, '_keep_checkpoint_max': 5, '_save_summary_steps': 100, '_model_dir': 'DNNModel', '_num_worker_replicas': 1, '_num_ps_replicas': 0, '_train_distribute': None, '_session_config': None, '_task_id': 0}\n",
      "INFO:tensorflow:Calling model_fn.\n",
      "INFO:tensorflow:Done calling model_fn.\n",
      "INFO:tensorflow:Create CheckpointSaverHook.\n",
      "INFO:tensorflow:Graph was finalized.\n",
      "INFO:tensorflow:Restoring parameters from DNNModel/model.ckpt-15000\n",
      "INFO:tensorflow:Running local_init_op.\n",
      "INFO:tensorflow:Done running local_init_op.\n",
      "INFO:tensorflow:Saving checkpoints for 15001 into DNNModel/model.ckpt.\n",
      "INFO:tensorflow:step = 15001, loss = 12365616.0\n",
      "INFO:tensorflow:global_step/sec: 10.8096\n",
      "INFO:tensorflow:step = 15101, loss = 12347134.0 (9.260 sec)\n",
      "INFO:tensorflow:global_step/sec: 11.044\n",
      "INFO:tensorflow:step = 15201, loss = 12328838.0 (9.054 sec)\n",
      "INFO:tensorflow:global_step/sec: 11.0785\n",
      "INFO:tensorflow:step = 15301, loss = 12310779.0 (9.024 sec)\n",
      "INFO:tensorflow:global_step/sec: 11.3925\n",
      "INFO:tensorflow:step = 15401, loss = 12292950.0 (8.782 sec)\n",
      "INFO:tensorflow:global_step/sec: 11.2761\n",
      "INFO:tensorflow:step = 15501, loss = 12275333.0 (8.865 sec)\n",
      "INFO:tensorflow:global_step/sec: 10.9747\n",
      "INFO:tensorflow:step = 15601, loss = 12257920.0 (9.111 sec)\n",
      "INFO:tensorflow:global_step/sec: 10.9621\n",
      "INFO:tensorflow:step = 15701, loss = 12240705.0 (9.124 sec)\n",
      "INFO:tensorflow:global_step/sec: 11.2071\n",
      "INFO:tensorflow:step = 15801, loss = 12223721.0 (8.924 sec)\n",
      "INFO:tensorflow:global_step/sec: 11.0278\n",
      "INFO:tensorflow:step = 15901, loss = 12206910.0 (9.067 sec)\n",
      "INFO:tensorflow:global_step/sec: 11.0287\n",
      "INFO:tensorflow:step = 16001, loss = 12190338.0 (9.067 sec)\n",
      "INFO:tensorflow:global_step/sec: 10.8225\n",
      "INFO:tensorflow:step = 16101, loss = 12173941.0 (9.239 sec)\n",
      "INFO:tensorflow:global_step/sec: 10.9732\n",
      "INFO:tensorflow:step = 16201, loss = 12157736.0 (9.114 sec)\n",
      "INFO:tensorflow:global_step/sec: 11.1273\n",
      "INFO:tensorflow:step = 16301, loss = 12141736.0 (8.989 sec)\n",
      "INFO:tensorflow:global_step/sec: 11.0197\n",
      "INFO:tensorflow:step = 16401, loss = 12125924.0 (9.073 sec)\n",
      "INFO:tensorflow:Saving checkpoints for 16500 into DNNModel/model.ckpt.\n",
      "INFO:tensorflow:Loss for final step: 12110456.0.\n"
     ]
    }
   ],
   "source": [
    "import random \n",
    "import tensorflow as tf\n",
    "import shutil\n",
    "\n",
    "def calc_volume(r, h):\n",
    "  return 2*3.14*r*r*h\n",
    "\n",
    "feature_cols = [tf.feature_column.numeric_column(\"radius\"), tf.feature_column.numeric_column(\"height\")];\n",
    "\n",
    "def train_input_factory(limit):\n",
    "  def train_input_fn():\n",
    "    r = [0.5 + 0.01 * random.randint(1, 150) for i in range(limit)]\n",
    "    h = [0.5 + 0.01 * random.randint(1, 150) for i in range(limit)]\n",
    "    v = [ calc_volume(r1, h1) for r1, h1 in zip(r, h) ]\n",
    "\n",
    "    r1 = [round(i, 1) for i in r];\n",
    "    h1 = [round(i, 1) for i in h];\n",
    "    \n",
    "    features = { \"radius\": r, \"height\": h}\n",
    "    return features, v\n",
    "  return train_input_fn\n",
    "\n",
    "# shutil.rmtree(\"DNNModel\")\n",
    "model = tf.estimator.DNNRegressor(feature_columns = feature_cols, \n",
    "                                   hidden_units = [6,16,13,2],\n",
    "                                 model_dir = \"DNNModel\")\n",
    "\n",
    "model.train(train_input_factory(100000), steps=1500);"
   ]
  },
  {
   "cell_type": "code",
   "execution_count": 4,
   "metadata": {},
   "outputs": [
    {
     "name": "stdout",
     "output_type": "stream",
     "text": [
      "INFO:tensorflow:Calling model_fn.\n",
      "INFO:tensorflow:Done calling model_fn.\n",
      "INFO:tensorflow:Starting evaluation at 2019-04-25-18:32:52\n",
      "INFO:tensorflow:Graph was finalized.\n",
      "INFO:tensorflow:Restoring parameters from DNNModel/model.ckpt-16500\n",
      "INFO:tensorflow:Running local_init_op.\n",
      "INFO:tensorflow:Done running local_init_op.\n",
      "INFO:tensorflow:Evaluation [1/1]\n",
      "INFO:tensorflow:Finished evaluation at 2019-04-25-18:32:52\n",
      "INFO:tensorflow:Saving dict for global step 16500: average_loss = 126.82414, global_step = 16500, loss = 12682.414\n",
      "{'global_step': 16500, 'average_loss': 126.82414, 'loss': 12682.414}\n",
      "RMSE on dataset = 11.261622428894043\n"
     ]
    }
   ],
   "source": [
    "import numpy as np\n",
    "\n",
    "metrics = model.evaluate(input_fn = train_input_factory(100), steps=1);\n",
    "print(metrics)\n",
    "print('RMSE on dataset = {}'.format(np.sqrt(metrics['average_loss'])))"
   ]
  },
  {
   "cell_type": "markdown",
   "metadata": {},
   "source": [
    "Copyright 2017 Google Inc. Licensed under the Apache License, Version 2.0 (the \"License\"); you may not use this file except in compliance with the License. You may obtain a copy of the License at http://www.apache.org/licenses/LICENSE-2.0 Unless required by applicable law or agreed to in writing, software distributed under the License is distributed on an \"AS IS\" BASIS, WITHOUT WARRANTIES OR CONDITIONS OF ANY KIND, either express or implied. See the License for the specific language governing permissions and limitations under the License"
   ]
  }
 ],
 "metadata": {
  "kernelspec": {
   "display_name": "Python 3",
   "language": "python",
   "name": "python3"
  },
  "language_info": {
   "codemirror_mode": {
    "name": "ipython",
    "version": 3
   },
   "file_extension": ".py",
   "mimetype": "text/x-python",
   "name": "python",
   "nbconvert_exporter": "python",
   "pygments_lexer": "ipython3",
   "version": "3.5.6"
  }
 },
 "nbformat": 4,
 "nbformat_minor": 1
}
